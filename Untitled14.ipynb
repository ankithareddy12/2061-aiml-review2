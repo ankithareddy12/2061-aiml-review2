{
  "cells": [
    {
      "cell_type": "code",
      "execution_count": null,
      "metadata": {
        "id": "inWEQka0AJ0A"
      },
      "outputs": [],
      "source": [
        "import pandas as pd\n",
        "from sklearn.model_selection import train_test_split\n",
        "from sklearn.linear_model import LinearRegression\n",
        "from sklearn.tree import DecisionTreeRegressor\n",
        "from sklearn.metrics import r2_score\n"
      ]
    },
    {
      "cell_type": "code",
      "execution_count": null,
      "metadata": {
        "colab": {
          "base_uri": "https://localhost:8080/"
        },
        "id": "rcr-JFxp5eCp",
        "outputId": "afdad206-b328-423d-cd6f-d20b9cfcf429"
      },
      "outputs": [
        {
          "output_type": "stream",
          "name": "stdout",
          "text": [
            "Mounted at /content/drive\n"
          ]
        }
      ],
      "source": [
        "from google.colab import drive\n",
        "drive.mount('/content/drive')"
      ]
    },
    {
      "cell_type": "code",
      "execution_count": null,
      "metadata": {
        "colab": {
          "base_uri": "https://localhost:8080/"
        },
        "id": "D8Yc2mOHATZY",
        "outputId": "af542e1b-0437-4238-da74-c0bbe137be6a"
      },
      "outputs": [
        {
          "output_type": "stream",
          "name": "stdout",
          "text": [
            "       Menu Category              Menu Items  Per Serve Size  Energy (kCal)  \\\n",
            "0       Regular Menu                    rice            75.0         101.00   \n",
            "1       Regular Menu         Aloo Tikki roti           146.0         339.52   \n",
            "2       Regular Menu           Paneer Burger           199.0         652.76   \n",
            "3       Regular Menu             Paneer Wrap           250.0         674.68   \n",
            "4       Regular Menu              Veg Burger           177.0         512.17   \n",
            "..               ...                     ...             ...            ...   \n",
            "136  Condiments Menu  Tomato Ketchup Sachets             8.0          11.23   \n",
            "137  Condiments Menu             Maple Syrup            30.0          86.40   \n",
            "138  Condiments Menu            Cheese Slice            14.0          51.03   \n",
            "139  Condiments Menu              Sweet Corn            40.0          45.08   \n",
            "140  Condiments Menu    Mixed Fruit Beverage           180.0          72.25   \n",
            "\n",
            "     Protein (g)  Total fat (g)  Sat Fat (g)  Trans fat (g)  \\\n",
            "0           1.98           0.80        0.168           0.00   \n",
            "1           8.50          11.31        4.270           0.20   \n",
            "2          20.29          39.45       17.120           0.18   \n",
            "3          20.96          39.10       19.730           0.26   \n",
            "4          15.30          23.45       10.510           0.17   \n",
            "..           ...            ...          ...            ...   \n",
            "136         0.08          23.45        0.000           0.01   \n",
            "137         0.00           0.00        0.000           0.00   \n",
            "138         3.06           3.99        2.890           0.01   \n",
            "139         1.47           1.00        0.220           0.04   \n",
            "140         0.65           0.02        0.020           0.02   \n",
            "\n",
            "     Cholesterols (mg)  Total carbohydrate (g)  Total Sugars (g)  \\\n",
            "0                 0.00                   20.73              0.04   \n",
            "1                 1.47                   50.27              7.05   \n",
            "2                21.85                   52.33              8.35   \n",
            "3                40.93                   59.27              3.50   \n",
            "4                25.24                   56.96              7.85   \n",
            "..                 ...                     ...               ...   \n",
            "136               0.08                    2.63              2.33   \n",
            "137               0.30                   21.60             16.20   \n",
            "138              13.43                    0.72              0.54   \n",
            "139               2.00                    7.55              2.54   \n",
            "140               0.01                   18.00             16.83   \n",
            "\n",
            "     Added Sugars (g)  Sodium (mg)  \n",
            "0                4.49       276.00  \n",
            "1                4.07       545.34  \n",
            "2                5.27      1074.58  \n",
            "3                1.08      1087.46  \n",
            "4                4.76      1051.24  \n",
            "..                ...          ...  \n",
            "136              1.64        71.05  \n",
            "137              5.34        15.00  \n",
            "138              0.00       178.95  \n",
            "139              0.00         0.04  \n",
            "140              0.00        10.80  \n",
            "\n",
            "[141 rows x 13 columns]\n"
          ]
        }
      ],
      "source": [
        "d = pd.read_csv('/aiml indiAN FOODS (1).csv')\n",
        "print(d)\n"
      ]
    },
    {
      "cell_type": "code",
      "execution_count": null,
      "metadata": {
        "id": "7X06H5vGATbb"
      },
      "outputs": [],
      "source": [
        "d.dropna(inplace=True)\n"
      ]
    },
    {
      "cell_type": "code",
      "execution_count": null,
      "metadata": {
        "id": "efiZZGv1LKmF"
      },
      "outputs": [],
      "source": []
    },
    {
      "cell_type": "code",
      "execution_count": null,
      "metadata": {
        "colab": {
          "base_uri": "https://localhost:8080/"
        },
        "id": "SoFNhF5OATe1",
        "outputId": "51cd158b-027b-45e2-a287-98be776fbd37"
      },
      "outputs": [
        {
          "output_type": "stream",
          "name": "stdout",
          "text": [
            "     Per Serve Size  Energy (kCal)  Protein (g)  Total fat (g)  Sat Fat (g)  \\\n",
            "0              75.0         101.00         1.98           0.80        0.168   \n",
            "1             146.0         339.52         8.50          11.31        4.270   \n",
            "2             199.0         652.76        20.29          39.45       17.120   \n",
            "3             250.0         674.68        20.96          39.10       19.730   \n",
            "4             177.0         512.17        15.30          23.45       10.510   \n",
            "..              ...            ...          ...            ...          ...   \n",
            "136             8.0          11.23         0.08          23.45        0.000   \n",
            "137            30.0          86.40         0.00           0.00        0.000   \n",
            "138            14.0          51.03         3.06           3.99        2.890   \n",
            "139            40.0          45.08         1.47           1.00        0.220   \n",
            "140           180.0          72.25         0.65           0.02        0.020   \n",
            "\n",
            "     Trans fat (g)  Cholesterols (mg)  Total carbohydrate (g)  \\\n",
            "0             0.00               0.00                   20.73   \n",
            "1             0.20               1.47                   50.27   \n",
            "2             0.18              21.85                   52.33   \n",
            "3             0.26              40.93                   59.27   \n",
            "4             0.17              25.24                   56.96   \n",
            "..             ...                ...                     ...   \n",
            "136           0.01               0.08                    2.63   \n",
            "137           0.00               0.30                   21.60   \n",
            "138           0.01              13.43                    0.72   \n",
            "139           0.04               2.00                    7.55   \n",
            "140           0.02               0.01                   18.00   \n",
            "\n",
            "     Total Sugars (g)  Added Sugars (g)  \n",
            "0                0.04              4.49  \n",
            "1                7.05              4.07  \n",
            "2                8.35              5.27  \n",
            "3                3.50              1.08  \n",
            "4                7.85              4.76  \n",
            "..                ...               ...  \n",
            "136              2.33              1.64  \n",
            "137             16.20              5.34  \n",
            "138              0.54              0.00  \n",
            "139              2.54              0.00  \n",
            "140             16.83              0.00  \n",
            "\n",
            "[140 rows x 10 columns] \n",
            "      Energy (kCal)\n",
            "0           101.00\n",
            "1           339.52\n",
            "2           652.76\n",
            "3           674.68\n",
            "4           512.17\n",
            "..             ...\n",
            "136          11.23\n",
            "137          86.40\n",
            "138          51.03\n",
            "139          45.08\n",
            "140          72.25\n",
            "\n",
            "[140 rows x 1 columns]\n"
          ]
        }
      ],
      "source": [
        "x = d.iloc[:, 2:12]\n",
        "y = d.iloc[:, 3:4]\n",
        "print(x,'\\n',y)"
      ]
    },
    {
      "cell_type": "code",
      "execution_count": null,
      "metadata": {
        "colab": {
          "base_uri": "https://localhost:8080/"
        },
        "id": "16yxRb7oAotG",
        "outputId": "82c021e4-1da7-4171-b2c9-c13a3d4f5502"
      },
      "outputs": [
        {
          "output_type": "stream",
          "name": "stdout",
          "text": [
            "(112, 10)\n",
            "(112, 1)\n",
            "(28, 10)\n",
            "(28, 1)\n"
          ]
        }
      ],
      "source": [
        "\n",
        "X_train, X_test, y_train, y_test = train_test_split(x, y, test_size=0.20, random_state=2)\n",
        "print(X_train.shape)\n",
        "print(y_train.shape)\n",
        "print(X_test.shape)\n",
        "print(y_test.shape)"
      ]
    },
    {
      "cell_type": "code",
      "execution_count": null,
      "metadata": {
        "colab": {
          "base_uri": "https://localhost:8080/"
        },
        "id": "B84uTN6XAowr",
        "outputId": "ece1b289-b7bb-4529-baa5-0909a8ddef9e"
      },
      "outputs": [
        {
          "output_type": "stream",
          "name": "stdout",
          "text": [
            "intercept: [-5.68434189e-14]\n",
            "coefficients: [[ 3.67786737e-16  1.00000000e+00  6.21031004e-16 -1.05471187e-15\n",
            "  -7.96021235e-16  1.64668626e-14 -3.88578059e-16 -4.44089210e-16\n",
            "   3.33066907e-16 -2.22044605e-16]]\n"
          ]
        }
      ],
      "source": [
        "lr_model = LinearRegression()\n",
        "lr_model.fit(X_train, y_train)\n",
        "print(f\"intercept: {lr_model.intercept_}\")\n",
        "print(f\"coefficients: {lr_model.coef_}\")"
      ]
    },
    {
      "cell_type": "code",
      "execution_count": null,
      "metadata": {
        "colab": {
          "base_uri": "https://localhost:8080/"
        },
        "id": "WUBRdigZAxFK",
        "outputId": "81899036-dad8-40ad-a2b8-fb6fbac74507"
      },
      "outputs": [
        {
          "output_type": "stream",
          "name": "stdout",
          "text": [
            "coefficient of determination: 1.0\n"
          ]
        }
      ],
      "source": [
        "r_sq = lr_model.score(X_test, y_test)\n",
        "print(f\"coefficient of determination: {r_sq}\")\n"
      ]
    },
    {
      "cell_type": "code",
      "execution_count": null,
      "metadata": {
        "colab": {
          "base_uri": "https://localhost:8080/"
        },
        "id": "NwKFiIjOA1eG",
        "outputId": "562ecbaf-1c3e-475d-ca91-6e4d9a87916b"
      },
      "outputs": [
        {
          "output_type": "stream",
          "name": "stdout",
          "text": [
            "R-squared score: 0.9882855231495978\n"
          ]
        }
      ],
      "source": [
        "dtr_model = DecisionTreeRegressor()\n",
        "dtr_model.fit(X_train, y_train)\n",
        "y_pred = dtr_model.predict(X_test)\n",
        "r2 = r2_score(y_test, y_pred)\n",
        "print(f\"R-squared score: {r2}\")\n"
      ]
    },
    {
      "cell_type": "code",
      "execution_count": null,
      "metadata": {
        "id": "QqCaXXUCEA7I"
      },
      "outputs": [],
      "source": [
        "from sklearn.tree import DecisionTreeRegressor\n",
        "from sklearn.metrics import accuracy_score\n",
        "cls=DecisionTreeRegressor()\n",
        "cc=cls.fit(X_train,y_train)"
      ]
    },
    {
      "cell_type": "code",
      "execution_count": null,
      "metadata": {
        "colab": {
          "base_uri": "https://localhost:8080/"
        },
        "id": "g8FO0cpeCddF",
        "outputId": "6888e1ed-c20b-4b23-b95e-425e56da44fc"
      },
      "outputs": [
        {
          "output_type": "stream",
          "name": "stdout",
          "text": [
            "23.862713442882853\n",
            "569.4290928571421\n",
            "11.097142857142847\n"
          ]
        }
      ],
      "source": [
        "import numpy as np\n",
        "from sklearn.metrics import mean_squared_error,r2_score,mean_absolute_error \n",
        "print(np.sqrt(mean_squared_error(y_test,y_pred )))\n",
        "print(mean_squared_error(y_test,y_pred ))\n",
        "print(mean_absolute_error(y_test,y_pred ))"
      ]
    },
    {
      "cell_type": "code",
      "execution_count": null,
      "metadata": {
        "colab": {
          "base_uri": "https://localhost:8080/",
          "height": 1000
        },
        "id": "FlD6fguuDlKf",
        "outputId": "935393bd-0a62-49ac-d775-c84baa35f331"
      },
      "outputs": [
        {
          "output_type": "execute_result",
          "data": {
            "text/plain": [
              "[Text(0.62597049689441, 0.9545454545454546, 'x[1] <= 293.615\\nsquared_error = 27057.789\\nsamples = 112\\nvalue = 221.245'),\n",
              " Text(0.3373447204968944, 0.8636363636363636, 'x[1] <= 141.895\\nsquared_error = 7353.621\\nsamples = 83\\nvalue = 144.167'),\n",
              " Text(0.16809006211180125, 0.7727272727272727, 'x[1] <= 68.125\\nsquared_error = 2251.395\\nsamples = 40\\nvalue = 68.822'),\n",
              " Text(0.09006211180124224, 0.6818181818181818, 'x[1] <= 29.435\\nsquared_error = 414.59\\nsamples = 19\\nvalue = 23.525'),\n",
              " Text(0.059006211180124224, 0.5909090909090909, 'x[2] <= 0.845\\nsquared_error = 26.071\\nsamples = 13\\nvalue = 10.475'),\n",
              " Text(0.037267080745341616, 0.5, 'x[1] <= 7.675\\nsquared_error = 10.594\\nsamples = 11\\nvalue = 8.806'),\n",
              " Text(0.012422360248447204, 0.4090909090909091, 'x[7] <= 0.85\\nsquared_error = 6.179\\nsamples = 4\\nvalue = 5.268'),\n",
              " Text(0.006211180124223602, 0.3181818181818182, 'squared_error = 0.0\\nsamples = 1\\nvalue = 0.99'),\n",
              " Text(0.018633540372670808, 0.3181818181818182, 'x[1] <= 6.525\\nsquared_error = 0.107\\nsamples = 3\\nvalue = 6.693'),\n",
              " Text(0.012422360248447204, 0.22727272727272727, 'squared_error = 0.0\\nsamples = 1\\nvalue = 6.25'),\n",
              " Text(0.024844720496894408, 0.22727272727272727, 'x[6] <= 1.395\\nsquared_error = 0.013\\nsamples = 2\\nvalue = 6.915'),\n",
              " Text(0.018633540372670808, 0.13636363636363635, 'squared_error = 0.0\\nsamples = 1\\nvalue = 6.8'),\n",
              " Text(0.031055900621118012, 0.13636363636363635, 'squared_error = 0.0\\nsamples = 1\\nvalue = 7.03'),\n",
              " Text(0.062111801242236024, 0.4090909090909091, 'x[1] <= 10.72\\nsquared_error = 1.871\\nsamples = 7\\nvalue = 10.829'),\n",
              " Text(0.043478260869565216, 0.3181818181818182, 'x[1] <= 9.125\\nsquared_error = 0.694\\nsamples = 3\\nvalue = 9.487'),\n",
              " Text(0.037267080745341616, 0.22727272727272727, 'squared_error = 0.0\\nsamples = 1\\nvalue = 8.32'),\n",
              " Text(0.049689440993788817, 0.22727272727272727, 'x[3] <= 0.37\\nsquared_error = 0.02\\nsamples = 2\\nvalue = 10.07'),\n",
              " Text(0.043478260869565216, 0.13636363636363635, 'squared_error = 0.0\\nsamples = 1\\nvalue = 9.93'),\n",
              " Text(0.055900621118012424, 0.13636363636363635, 'squared_error = 0.0\\nsamples = 1\\nvalue = 10.21'),\n",
              " Text(0.08074534161490683, 0.3181818181818182, 'x[1] <= 12.31\\nsquared_error = 0.391\\nsamples = 4\\nvalue = 11.835'),\n",
              " Text(0.07453416149068323, 0.22727272727272727, 'x[4] <= 0.165\\nsquared_error = 0.045\\nsamples = 3\\nvalue = 11.49'),\n",
              " Text(0.06832298136645963, 0.13636363636363635, 'squared_error = 0.0\\nsamples = 1\\nvalue = 11.23'),\n",
              " Text(0.08074534161490683, 0.13636363636363635, 'x[7] <= 2.445\\nsquared_error = 0.017\\nsamples = 2\\nvalue = 11.62'),\n",
              " Text(0.07453416149068323, 0.045454545454545456, 'squared_error = 0.0\\nsamples = 1\\nvalue = 11.75'),\n",
              " Text(0.08695652173913043, 0.045454545454545456, 'squared_error = -0.0\\nsamples = 1\\nvalue = 11.49'),\n",
              " Text(0.08695652173913043, 0.22727272727272727, 'squared_error = 0.0\\nsamples = 1\\nvalue = 12.87'),\n",
              " Text(0.08074534161490683, 0.5, 'x[4] <= 0.255\\nsquared_error = 11.696\\nsamples = 2\\nvalue = 19.65'),\n",
              " Text(0.07453416149068323, 0.4090909090909091, 'squared_error = 0.0\\nsamples = 1\\nvalue = 23.07'),\n",
              " Text(0.08695652173913043, 0.4090909090909091, 'squared_error = 0.0\\nsamples = 1\\nvalue = 16.23'),\n",
              " Text(0.12111801242236025, 0.5909090909090909, 'x[1] <= 48.055\\nsquared_error = 87.897\\nsamples = 6\\nvalue = 51.8'),\n",
              " Text(0.10559006211180125, 0.5, 'x[6] <= 4.0\\nsquared_error = 21.53\\nsamples = 2\\nvalue = 40.44'),\n",
              " Text(0.09937888198757763, 0.4090909090909091, 'squared_error = 0.0\\nsamples = 1\\nvalue = 45.08'),\n",
              " Text(0.11180124223602485, 0.4090909090909091, 'squared_error = -0.0\\nsamples = 1\\nvalue = 35.8'),\n",
              " Text(0.13664596273291926, 0.5, 'x[6] <= 0.125\\nsquared_error = 24.293\\nsamples = 4\\nvalue = 57.48'),\n",
              " Text(0.12422360248447205, 0.4090909090909091, 'x[4] <= 0.009\\nsquared_error = 4.0\\nsamples = 2\\nvalue = 62.0'),\n",
              " Text(0.11801242236024845, 0.3181818181818182, 'squared_error = 0.0\\nsamples = 1\\nvalue = 60.0'),\n",
              " Text(0.13043478260869565, 0.3181818181818182, 'squared_error = 0.0\\nsamples = 1\\nvalue = 64.0'),\n",
              " Text(0.14906832298136646, 0.4090909090909091, 'x[9] <= 1.25\\nsquared_error = 3.725\\nsamples = 2\\nvalue = 52.96'),\n",
              " Text(0.14285714285714285, 0.3181818181818182, 'squared_error = 0.0\\nsamples = 1\\nvalue = 51.03'),\n",
              " Text(0.15527950310559005, 0.3181818181818182, 'squared_error = 0.0\\nsamples = 1\\nvalue = 54.89'),\n",
              " Text(0.24611801242236025, 0.6818181818181818, 'x[1] <= 110.105\\nsquared_error = 377.211\\nsamples = 21\\nvalue = 109.805'),\n",
              " Text(0.19409937888198758, 0.5909090909090909, 'x[1] <= 91.97\\nsquared_error = 92.594\\nsamples = 11\\nvalue = 93.358'),\n",
              " Text(0.16770186335403728, 0.5, 'x[1] <= 76.715\\nsquared_error = 40.981\\nsamples = 4\\nvalue = 82.208'),\n",
              " Text(0.16149068322981366, 0.4090909090909091, 'squared_error = 0.0\\nsamples = 1\\nvalue = 72.25'),\n",
              " Text(0.17391304347826086, 0.4090909090909091, 'x[3] <= 3.285\\nsquared_error = 10.573\\nsamples = 3\\nvalue = 85.527'),\n",
              " Text(0.16770186335403728, 0.3181818181818182, 'x[8] <= 8.6\\nsquared_error = 1.69\\nsamples = 2\\nvalue = 87.7'),\n",
              " Text(0.16149068322981366, 0.22727272727272727, 'squared_error = 0.0\\nsamples = 1\\nvalue = 89.0'),\n",
              " Text(0.17391304347826086, 0.22727272727272727, 'squared_error = 0.0\\nsamples = 1\\nvalue = 86.4'),\n",
              " Text(0.18012422360248448, 0.3181818181818182, 'squared_error = 0.0\\nsamples = 1\\nvalue = 81.18'),\n",
              " Text(0.2204968944099379, 0.5, 'x[5] <= 0.155\\nsquared_error = 10.438\\nsamples = 7\\nvalue = 99.73'),\n",
              " Text(0.20496894409937888, 0.4090909090909091, 'x[7] <= 22.955\\nsquared_error = 1.791\\nsamples = 5\\nvalue = 101.644'),\n",
              " Text(0.19254658385093168, 0.3181818181818182, 'x[5] <= 0.105\\nsquared_error = 0.22\\nsamples = 3\\nvalue = 100.663'),\n",
              " Text(0.18633540372670807, 0.22727272727272727, 'x[0] <= 83.395\\nsquared_error = 0.0\\nsamples = 2\\nvalue = 100.995'),\n",
              " Text(0.18012422360248448, 0.13636363636363635, 'squared_error = 0.0\\nsamples = 1\\nvalue = 101.0'),\n",
              " Text(0.19254658385093168, 0.13636363636363635, 'squared_error = -0.0\\nsamples = 1\\nvalue = 100.99'),\n",
              " Text(0.19875776397515527, 0.22727272727272727, 'squared_error = 0.0\\nsamples = 1\\nvalue = 100.0'),\n",
              " Text(0.21739130434782608, 0.3181818181818182, 'x[9] <= 19.9\\nsquared_error = 0.54\\nsamples = 2\\nvalue = 103.115'),\n",
              " Text(0.2111801242236025, 0.22727272727272727, 'squared_error = 0.0\\nsamples = 1\\nvalue = 102.38'),\n",
              " Text(0.2236024844720497, 0.22727272727272727, 'squared_error = -0.0\\nsamples = 1\\nvalue = 103.85'),\n",
              " Text(0.2360248447204969, 0.4090909090909091, 'x[1] <= 94.945\\nsquared_error = 0.0\\nsamples = 2\\nvalue = 94.945'),\n",
              " Text(0.22981366459627328, 0.3181818181818182, 'squared_error = 0.0\\nsamples = 1\\nvalue = 94.94'),\n",
              " Text(0.2422360248447205, 0.3181818181818182, 'squared_error = 0.0\\nsamples = 1\\nvalue = 94.95'),\n",
              " Text(0.2981366459627329, 0.5909090909090909, 'x[1] <= 133.54\\nsquared_error = 65.422\\nsamples = 10\\nvalue = 127.897'),\n",
              " Text(0.2795031055900621, 0.5, 'x[1] <= 123.555\\nsquared_error = 19.042\\nsamples = 7\\nvalue = 123.189'),\n",
              " Text(0.2608695652173913, 0.4090909090909091, 'x[8] <= 15.78\\nsquared_error = 4.883\\nsamples = 4\\nvalue = 119.845'),\n",
              " Text(0.2546583850931677, 0.3181818181818182, 'squared_error = 0.0\\nsamples = 1\\nvalue = 116.36'),\n",
              " Text(0.2670807453416149, 0.3181818181818182, 'x[5] <= 0.04\\nsquared_error = 1.113\\nsamples = 3\\nvalue = 121.007'),\n",
              " Text(0.2608695652173913, 0.22727272727272727, 'squared_error = 0.0\\nsamples = 1\\nvalue = 119.52'),\n",
              " Text(0.2732919254658385, 0.22727272727272727, 'x[6] <= 3.75\\nsquared_error = 0.012\\nsamples = 2\\nvalue = 121.75'),\n",
              " Text(0.2670807453416149, 0.13636363636363635, 'squared_error = 0.0\\nsamples = 1\\nvalue = 121.86'),\n",
              " Text(0.2795031055900621, 0.13636363636363635, 'squared_error = 0.0\\nsamples = 1\\nvalue = 121.64'),\n",
              " Text(0.2981366459627329, 0.4090909090909091, 'x[6] <= 10.635\\nsquared_error = 3.141\\nsamples = 3\\nvalue = 127.647'),\n",
              " Text(0.2919254658385093, 0.3181818181818182, 'x[7] <= 32.045\\nsquared_error = 0.403\\nsamples = 2\\nvalue = 128.845'),\n",
              " Text(0.2857142857142857, 0.22727272727272727, 'squared_error = 0.0\\nsamples = 1\\nvalue = 128.21'),\n",
              " Text(0.2981366459627329, 0.22727272727272727, 'squared_error = 0.0\\nsamples = 1\\nvalue = 129.48'),\n",
              " Text(0.30434782608695654, 0.3181818181818182, 'squared_error = 0.0\\nsamples = 1\\nvalue = 125.25'),\n",
              " Text(0.3167701863354037, 0.5, 'x[7] <= 22.425\\nsquared_error = 1.214\\nsamples = 3\\nvalue = 138.883'),\n",
              " Text(0.3105590062111801, 0.4090909090909091, 'squared_error = 0.0\\nsamples = 1\\nvalue = 140.29'),\n",
              " Text(0.32298136645962733, 0.4090909090909091, 'x[2] <= 0.76\\nsquared_error = 0.336\\nsamples = 2\\nvalue = 138.18'),\n",
              " Text(0.3167701863354037, 0.3181818181818182, 'squared_error = 0.0\\nsamples = 1\\nvalue = 137.6'),\n",
              " Text(0.32919254658385094, 0.3181818181818182, 'squared_error = -0.0\\nsamples = 1\\nvalue = 138.76'),\n",
              " Text(0.5065993788819876, 0.7727272727272727, 'x[1] <= 207.325\\nsquared_error = 1906.563\\nsamples = 43\\nvalue = 214.256'),\n",
              " Text(0.4254658385093168, 0.6818181818181818, 'x[1] <= 174.365\\nsquared_error = 372.69\\nsamples = 18\\nvalue = 169.319'),\n",
              " Text(0.38509316770186336, 0.5909090909090909, 'x[1] <= 153.85\\nsquared_error = 54.921\\nsamples = 11\\nvalue = 155.148'),\n",
              " Text(0.36024844720496896, 0.5, 'x[1] <= 149.285\\nsquared_error = 9.779\\nsamples = 5\\nvalue = 147.758'),\n",
              " Text(0.34782608695652173, 0.4090909090909091, 'x[2] <= 5.495\\nsquared_error = 3.013\\nsamples = 3\\nvalue = 145.46'),\n",
              " Text(0.3416149068322981, 0.3181818181818182, 'x[9] <= 17.675\\nsquared_error = 0.689\\nsamples = 2\\nvalue = 144.33'),\n",
              " Text(0.33540372670807456, 0.22727272727272727, 'squared_error = 0.0\\nsamples = 1\\nvalue = 143.5'),\n",
              " Text(0.34782608695652173, 0.22727272727272727, 'squared_error = 0.0\\nsamples = 1\\nvalue = 145.16'),\n",
              " Text(0.35403726708074534, 0.3181818181818182, 'squared_error = -0.0\\nsamples = 1\\nvalue = 147.72'),\n",
              " Text(0.37267080745341613, 0.4090909090909091, 'x[0] <= 276.645\\nsquared_error = 0.126\\nsamples = 2\\nvalue = 151.205'),\n",
              " Text(0.36645962732919257, 0.3181818181818182, 'squared_error = 0.0\\nsamples = 1\\nvalue = 150.85'),\n",
              " Text(0.37888198757763975, 0.3181818181818182, 'squared_error = 0.0\\nsamples = 1\\nvalue = 151.56'),\n",
              " Text(0.40993788819875776, 0.5, 'x[1] <= 161.07\\nsquared_error = 9.1\\nsamples = 6\\nvalue = 161.307'),\n",
              " Text(0.39751552795031053, 0.4090909090909091, 'x[8] <= 21.795\\nsquared_error = 3.435\\nsamples = 3\\nvalue = 158.76'),\n",
              " Text(0.391304347826087, 0.3181818181818182, 'x[8] <= 9.03\\nsquared_error = 0.005\\nsamples = 2\\nvalue = 160.07'),\n",
              " Text(0.38509316770186336, 0.22727272727272727, 'squared_error = 0.0\\nsamples = 1\\nvalue = 160.0'),\n",
              " Text(0.39751552795031053, 0.22727272727272727, 'squared_error = 0.0\\nsamples = 1\\nvalue = 160.14'),\n",
              " Text(0.40372670807453415, 0.3181818181818182, 'squared_error = -0.0\\nsamples = 1\\nvalue = 156.14'),\n",
              " Text(0.422360248447205, 0.4090909090909091, 'x[1] <= 163.22\\nsquared_error = 1.794\\nsamples = 3\\nvalue = 163.853'),\n",
              " Text(0.4161490683229814, 0.3181818181818182, 'squared_error = 0.0\\nsamples = 1\\nvalue = 162.0'),\n",
              " Text(0.42857142857142855, 0.3181818181818182, 'x[0] <= 226.0\\nsquared_error = 0.116\\nsamples = 2\\nvalue = 164.78'),\n",
              " Text(0.422360248447205, 0.22727272727272727, 'squared_error = 0.0\\nsamples = 1\\nvalue = 164.44'),\n",
              " Text(0.43478260869565216, 0.22727272727272727, 'squared_error = -0.0\\nsamples = 1\\nvalue = 165.12'),\n",
              " Text(0.4658385093167702, 0.5909090909090909, 'x[1] <= 191.725\\nsquared_error = 60.61\\nsamples = 7\\nvalue = 191.587'),\n",
              " Text(0.453416149068323, 0.5, 'x[1] <= 184.475\\nsquared_error = 0.903\\nsamples = 4\\nvalue = 185.2'),\n",
              " Text(0.4472049689440994, 0.4090909090909091, 'squared_error = 0.0\\nsamples = 1\\nvalue = 183.61'),\n",
              " Text(0.45962732919254656, 0.4090909090909091, 'x[9] <= 11.79\\nsquared_error = 0.08\\nsamples = 3\\nvalue = 185.73'),\n",
              " Text(0.453416149068323, 0.3181818181818182, 'x[6] <= 79.215\\nsquared_error = 0.006\\nsamples = 2\\nvalue = 185.925'),\n",
              " Text(0.4472049689440994, 0.22727272727272727, 'squared_error = 0.0\\nsamples = 1\\nvalue = 185.85'),\n",
              " Text(0.45962732919254656, 0.22727272727272727, 'squared_error = 0.0\\nsamples = 1\\nvalue = 186.0'),\n",
              " Text(0.4658385093167702, 0.3181818181818182, 'squared_error = -0.0\\nsamples = 1\\nvalue = 185.34'),\n",
              " Text(0.4782608695652174, 0.5, 'x[8] <= 23.88\\nsquared_error = 13.299\\nsamples = 3\\nvalue = 200.103'),\n",
              " Text(0.4720496894409938, 0.4090909090909091, 'squared_error = 0.0\\nsamples = 1\\nvalue = 205.26'),\n",
              " Text(0.484472049689441, 0.4090909090909091, 'x[7] <= 39.91\\nsquared_error = 0.006\\nsamples = 2\\nvalue = 197.525'),\n",
              " Text(0.4782608695652174, 0.3181818181818182, 'squared_error = 0.0\\nsamples = 1\\nvalue = 197.45'),\n",
              " Text(0.4906832298136646, 0.3181818181818182, 'squared_error = 0.0\\nsamples = 1\\nvalue = 197.6'),\n",
              " Text(0.5877329192546584, 0.6818181818181818, 'x[1] <= 246.38\\nsquared_error = 510.165\\nsamples = 25\\nvalue = 246.611'),\n",
              " Text(0.531055900621118, 0.5909090909090909, 'x[1] <= 226.4\\nsquared_error = 97.998\\nsamples = 13\\nvalue = 228.151'),\n",
              " Text(0.5031055900621118, 0.5, 'x[1] <= 212.555\\nsquared_error = 24.491\\nsamples = 5\\nvalue = 217.284'),\n",
              " Text(0.4968944099378882, 0.4090909090909091, 'squared_error = 0.0\\nsamples = 1\\nvalue = 209.39'),\n",
              " Text(0.5093167701863354, 0.4090909090909091, 'x[0] <= 212.25\\nsquared_error = 11.14\\nsamples = 4\\nvalue = 219.258'),\n",
              " Text(0.5031055900621118, 0.3181818181818182, 'squared_error = 0.0\\nsamples = 1\\nvalue = 224.59'),\n",
              " Text(0.515527950310559, 0.3181818181818182, 'x[1] <= 218.36\\nsquared_error = 2.215\\nsamples = 3\\nvalue = 217.48'),\n",
              " Text(0.5093167701863354, 0.22727272727272727, 'x[0] <= 445.75\\nsquared_error = 0.672\\nsamples = 2\\nvalue = 216.54'),\n",
              " Text(0.5031055900621118, 0.13636363636363635, 'squared_error = 0.0\\nsamples = 1\\nvalue = 215.72'),\n",
              " Text(0.515527950310559, 0.13636363636363635, 'squared_error = -0.0\\nsamples = 1\\nvalue = 217.36'),\n",
              " Text(0.5217391304347826, 0.22727272727272727, 'squared_error = 0.0\\nsamples = 1\\nvalue = 219.36'),\n",
              " Text(0.5590062111801242, 0.5, 'x[1] <= 236.66\\nsquared_error = 24.008\\nsamples = 8\\nvalue = 234.943'),\n",
              " Text(0.546583850931677, 0.4090909090909091, 'x[8] <= 40.935\\nsquared_error = 5.392\\nsamples = 5\\nvalue = 231.646'),\n",
              " Text(0.5403726708074534, 0.3181818181818182, 'x[0] <= 112.5\\nsquared_error = 2.265\\nsamples = 4\\nvalue = 230.7'),\n",
              " Text(0.5341614906832298, 0.22727272727272727, 'squared_error = 0.0\\nsamples = 1\\nvalue = 228.21'),\n",
              " Text(0.546583850931677, 0.22727272727272727, 'x[6] <= 24.42\\nsquared_error = 0.264\\nsamples = 3\\nvalue = 231.53'),\n",
              " Text(0.5403726708074534, 0.13636363636363635, 'x[4] <= 2.96\\nsquared_error = 0.06\\nsamples = 2\\nvalue = 231.195'),\n",
              " Text(0.5341614906832298, 0.045454545454545456, 'squared_error = 0.0\\nsamples = 1\\nvalue = 231.44'),\n",
              " Text(0.546583850931677, 0.045454545454545456, 'squared_error = 0.0\\nsamples = 1\\nvalue = 230.95'),\n",
              " Text(0.5527950310559007, 0.13636363636363635, 'squared_error = 0.0\\nsamples = 1\\nvalue = 232.2'),\n",
              " Text(0.5527950310559007, 0.3181818181818182, 'squared_error = -0.0\\nsamples = 1\\nvalue = 235.43'),\n",
              " Text(0.5714285714285714, 0.4090909090909091, 'x[2] <= 7.86\\nsquared_error = 6.739\\nsamples = 3\\nvalue = 240.437'),\n",
              " Text(0.5652173913043478, 0.3181818181818182, 'x[1] <= 238.655\\nsquared_error = 0.585\\nsamples = 2\\nvalue = 238.655'),\n",
              " Text(0.5590062111801242, 0.22727272727272727, 'squared_error = 0.0\\nsamples = 1\\nvalue = 237.89'),\n",
              " Text(0.5714285714285714, 0.22727272727272727, 'squared_error = 0.0\\nsamples = 1\\nvalue = 239.42'),\n",
              " Text(0.577639751552795, 0.3181818181818182, 'squared_error = 0.0\\nsamples = 1\\nvalue = 244.0'),\n",
              " Text(0.6444099378881988, 0.5909090909090909, 'x[1] <= 263.89\\nsquared_error = 187.54\\nsamples = 12\\nvalue = 266.61'),\n",
              " Text(0.6086956521739131, 0.5, 'x[1] <= 252.995\\nsquared_error = 7.946\\nsamples = 6\\nvalue = 253.82'),\n",
              " Text(0.5962732919254659, 0.4090909090909091, 'x[1] <= 250.115\\nsquared_error = 1.836\\nsamples = 2\\nvalue = 250.115'),\n",
              " Text(0.5900621118012422, 0.3181818181818182, 'squared_error = 0.0\\nsamples = 1\\nvalue = 248.76'),\n",
              " Text(0.6024844720496895, 0.3181818181818182, 'squared_error = -0.0\\nsamples = 1\\nvalue = 251.47'),\n",
              " Text(0.6211180124223602, 0.4090909090909091, 'x[3] <= 3.16\\nsquared_error = 0.706\\nsamples = 4\\nvalue = 255.672'),\n",
              " Text(0.6149068322981367, 0.3181818181818182, 'squared_error = 0.0\\nsamples = 1\\nvalue = 256.88'),\n",
              " Text(0.6273291925465838, 0.3181818181818182, 'x[8] <= 16.145\\nsquared_error = 0.293\\nsamples = 3\\nvalue = 255.27'),\n",
              " Text(0.6211180124223602, 0.22727272727272727, 'squared_error = 0.0\\nsamples = 1\\nvalue = 254.52'),\n",
              " Text(0.6335403726708074, 0.22727272727272727, 'x[9] <= 15.575\\nsquared_error = 0.018\\nsamples = 2\\nvalue = 255.645'),\n",
              " Text(0.6273291925465838, 0.13636363636363635, 'squared_error = 0.0\\nsamples = 1\\nvalue = 255.78'),\n",
              " Text(0.639751552795031, 0.13636363636363635, 'squared_error = 0.0\\nsamples = 1\\nvalue = 255.51'),\n",
              " Text(0.6801242236024845, 0.5, 'x[6] <= 212.85\\nsquared_error = 39.965\\nsamples = 6\\nvalue = 279.4'),\n",
              " Text(0.6645962732919255, 0.4090909090909091, 'x[1] <= 276.025\\nsquared_error = 13.061\\nsamples = 4\\nvalue = 275.75'),\n",
              " Text(0.6521739130434783, 0.3181818181818182, 'x[2] <= 6.87\\nsquared_error = 2.074\\nsamples = 2\\nvalue = 272.34'),\n",
              " Text(0.6459627329192547, 0.22727272727272727, 'squared_error = 0.0\\nsamples = 1\\nvalue = 270.9'),\n",
              " Text(0.6583850931677019, 0.22727272727272727, 'squared_error = 0.0\\nsamples = 1\\nvalue = 273.78'),\n",
              " Text(0.6770186335403726, 0.3181818181818182, 'x[3] <= 10.8\\nsquared_error = 0.792\\nsamples = 2\\nvalue = 279.16'),\n",
              " Text(0.6708074534161491, 0.22727272727272727, 'squared_error = 0.0\\nsamples = 1\\nvalue = 280.05'),\n",
              " Text(0.6832298136645962, 0.22727272727272727, 'squared_error = 0.0\\nsamples = 1\\nvalue = 278.27'),\n",
              " Text(0.6956521739130435, 0.4090909090909091, 'x[0] <= 124.6\\nsquared_error = 13.838\\nsamples = 2\\nvalue = 286.7'),\n",
              " Text(0.6894409937888198, 0.3181818181818182, 'squared_error = 0.0\\nsamples = 1\\nvalue = 282.98'),\n",
              " Text(0.7018633540372671, 0.3181818181818182, 'squared_error = -0.0\\nsamples = 1\\nvalue = 290.42'),\n",
              " Text(0.9145962732919255, 0.8636363636363636, 'x[1] <= 496.64\\nsquared_error = 17783.578\\nsamples = 29\\nvalue = 441.848'),\n",
              " Text(0.8540372670807453, 0.7727272727272727, 'x[1] <= 390.635\\nsquared_error = 2749.796\\nsamples = 21\\nvalue = 372.594'),\n",
              " Text(0.7981366459627329, 0.6818181818181818, 'x[1] <= 344.895\\nsquared_error = 750.395\\nsamples = 14\\nvalue = 341.039'),\n",
              " Text(0.7577639751552795, 0.5909090909090909, 'x[1] <= 323.605\\nsquared_error = 248.704\\nsamples = 8\\nvalue = 321.225'),\n",
              " Text(0.7329192546583851, 0.5, 'x[8] <= 28.95\\nsquared_error = 66.788\\nsamples = 4\\nvalue = 307.035'),\n",
              " Text(0.7204968944099379, 0.4090909090909091, 'x[1] <= 314.655\\nsquared_error = 10.66\\nsamples = 2\\nvalue = 314.655'),\n",
              " Text(0.7142857142857143, 0.3181818181818182, 'squared_error = 0.0\\nsamples = 1\\nvalue = 311.39'),\n",
              " Text(0.7267080745341615, 0.3181818181818182, 'squared_error = 0.0\\nsamples = 1\\nvalue = 317.92'),\n",
              " Text(0.7453416149068323, 0.4090909090909091, 'x[6] <= 30.13\\nsquared_error = 6.786\\nsamples = 2\\nvalue = 299.415'),\n",
              " Text(0.7391304347826086, 0.3181818181818182, 'squared_error = 0.0\\nsamples = 1\\nvalue = 296.81'),\n",
              " Text(0.7515527950310559, 0.3181818181818182, 'squared_error = 0.0\\nsamples = 1\\nvalue = 302.02'),\n",
              " Text(0.782608695652174, 0.5, 'x[1] <= 335.345\\nsquared_error = 27.909\\nsamples = 4\\nvalue = 335.415'),\n",
              " Text(0.7701863354037267, 0.4090909090909091, 'x[3] <= 15.095\\nsquared_error = 0.884\\nsamples = 2\\nvalue = 330.23'),\n",
              " Text(0.7639751552795031, 0.3181818181818182, 'squared_error = 0.0\\nsamples = 1\\nvalue = 331.17'),\n",
              " Text(0.7763975155279503, 0.3181818181818182, 'squared_error = 0.0\\nsamples = 1\\nvalue = 329.29'),\n",
              " Text(0.7950310559006211, 0.4090909090909091, 'x[6] <= 8.715\\nsquared_error = 1.166\\nsamples = 2\\nvalue = 340.6'),\n",
              " Text(0.7888198757763976, 0.3181818181818182, 'squared_error = 0.0\\nsamples = 1\\nvalue = 339.52'),\n",
              " Text(0.8012422360248447, 0.3181818181818182, 'squared_error = -0.0\\nsamples = 1\\nvalue = 341.68'),\n",
              " Text(0.8385093167701864, 0.5909090909090909, 'x[4] <= 7.6\\nsquared_error = 197.962\\nsamples = 6\\nvalue = 367.457'),\n",
              " Text(0.8260869565217391, 0.5, 'x[9] <= 3.515\\nsquared_error = 16.058\\nsamples = 3\\nvalue = 353.75'),\n",
              " Text(0.8198757763975155, 0.4090909090909091, 'x[9] <= 2.32\\nsquared_error = 0.23\\nsamples = 2\\nvalue = 356.57'),\n",
              " Text(0.8136645962732919, 0.3181818181818182, 'squared_error = 0.0\\nsamples = 1\\nvalue = 356.09'),\n",
              " Text(0.8260869565217391, 0.3181818181818182, 'squared_error = 0.0\\nsamples = 1\\nvalue = 357.05'),\n",
              " Text(0.8322981366459627, 0.4090909090909091, 'squared_error = -0.0\\nsamples = 1\\nvalue = 348.11'),\n",
              " Text(0.8509316770186336, 0.5, 'x[4] <= 10.66\\nsquared_error = 4.121\\nsamples = 3\\nvalue = 381.163'),\n",
              " Text(0.84472049689441, 0.4090909090909091, 'x[2] <= 16.785\\nsquared_error = 0.578\\nsamples = 2\\nvalue = 382.53'),\n",
              " Text(0.8385093167701864, 0.3181818181818182, 'squared_error = 0.0\\nsamples = 1\\nvalue = 383.29'),\n",
              " Text(0.8509316770186336, 0.3181818181818182, 'squared_error = 0.0\\nsamples = 1\\nvalue = 381.77'),\n",
              " Text(0.8571428571428571, 0.4090909090909091, 'squared_error = -0.0\\nsamples = 1\\nvalue = 378.43'),\n",
              " Text(0.9099378881987578, 0.6818181818181818, 'x[3] <= 17.295\\nsquared_error = 774.199\\nsamples = 7\\nvalue = 435.704'),\n",
              " Text(0.8881987577639752, 0.5909090909090909, 'x[3] <= 14.515\\nsquared_error = 259.343\\nsamples = 4\\nvalue = 415.428'),\n",
              " Text(0.8757763975155279, 0.5, 'x[1] <= 431.465\\nsquared_error = 2.295\\nsamples = 2\\nvalue = 431.465'),\n",
              " Text(0.8695652173913043, 0.4090909090909091, 'squared_error = 0.0\\nsamples = 1\\nvalue = 429.95'),\n",
              " Text(0.8819875776397516, 0.4090909090909091, 'squared_error = -0.0\\nsamples = 1\\nvalue = 432.98'),\n",
              " Text(0.9006211180124224, 0.5, 'x[3] <= 15.355\\nsquared_error = 1.988\\nsamples = 2\\nvalue = 399.39'),\n",
              " Text(0.8944099378881988, 0.4090909090909091, 'squared_error = 0.0\\nsamples = 1\\nvalue = 397.98'),\n",
              " Text(0.906832298136646, 0.4090909090909091, 'squared_error = 0.0\\nsamples = 1\\nvalue = 400.8'),\n",
              " Text(0.9316770186335404, 0.5909090909090909, 'x[1] <= 469.525\\nsquared_error = 181.547\\nsamples = 3\\nvalue = 462.74'),\n",
              " Text(0.9254658385093167, 0.5, 'x[4] <= 10.755\\nsquared_error = 19.228\\nsamples = 2\\nvalue = 453.555'),\n",
              " Text(0.9192546583850931, 0.4090909090909091, 'squared_error = 0.0\\nsamples = 1\\nvalue = 449.17'),\n",
              " Text(0.9316770186335404, 0.4090909090909091, 'squared_error = 0.0\\nsamples = 1\\nvalue = 457.94'),\n",
              " Text(0.937888198757764, 0.5, 'squared_error = -0.0\\nsamples = 1\\nvalue = 481.11'),\n",
              " Text(0.9751552795031055, 0.7727272727272727, 'x[1] <= 604.275\\nsquared_error = 11609.504\\nsamples = 8\\nvalue = 623.639'),\n",
              " Text(0.9627329192546584, 0.6818181818181818, 'x[3] <= 25.71\\nsquared_error = 468.163\\nsamples = 4\\nvalue = 530.508'),\n",
              " Text(0.9565217391304348, 0.5909090909090909, 'x[5] <= 0.185\\nsquared_error = 26.17\\nsamples = 3\\nvalue = 518.28'),\n",
              " Text(0.9503105590062112, 0.5, 'x[1] <= 515.075\\nsquared_error = 8.439\\nsamples = 2\\nvalue = 515.075'),\n",
              " Text(0.9440993788819876, 0.4090909090909091, 'squared_error = 0.0\\nsamples = 1\\nvalue = 512.17'),\n",
              " Text(0.9565217391304348, 0.4090909090909091, 'squared_error = -0.0\\nsamples = 1\\nvalue = 517.98'),\n",
              " Text(0.9627329192546584, 0.5, 'squared_error = 0.0\\nsamples = 1\\nvalue = 524.69'),\n",
              " Text(0.968944099378882, 0.5909090909090909, 'squared_error = -0.0\\nsamples = 1\\nvalue = 567.19'),\n",
              " Text(0.9875776397515528, 0.6818181818181818, 'x[1] <= 777.33\\nsquared_error = 5403.985\\nsamples = 4\\nvalue = 716.77'),\n",
              " Text(0.9813664596273292, 0.5909090909090909, 'x[7] <= 75.86\\nsquared_error = 1059.799\\nsamples = 3\\nvalue = 677.573'),\n",
              " Text(0.9751552795031055, 0.5, 'x[2] <= 27.23\\nsquared_error = 220.522\\nsamples = 2\\nvalue = 656.21'),\n",
              " Text(0.968944099378882, 0.4090909090909091, 'squared_error = 0.0\\nsamples = 1\\nvalue = 671.06'),\n",
              " Text(0.9813664596273292, 0.4090909090909091, 'squared_error = -0.0\\nsamples = 1\\nvalue = 641.36'),\n",
              " Text(0.9875776397515528, 0.5, 'squared_error = -0.0\\nsamples = 1\\nvalue = 720.3'),\n",
              " Text(0.9937888198757764, 0.5909090909090909, 'squared_error = -0.0\\nsamples = 1\\nvalue = 834.36')]"
            ]
          },
          "metadata": {},
          "execution_count": 13
        },
        {
          "output_type": "display_data",
          "data": {
            "text/plain": [
              "<Figure size 640x480 with 1 Axes>"
            ],
            "image/png": "[encoded data removed]"
          },
          "metadata": {}
        }
      ],
      "source": [
        "from sklearn import tree\n",
        "tree.plot_tree(cc,filled=True)"
      ]
    },
    {
      "cell_type": "code",
      "execution_count": null,
      "metadata": {
        "colab": {
          "base_uri": "https://localhost:8080/"
        },
        "id": "jglLqT-dGkIr",
        "outputId": "fab7b8e4-d2ec-4e02-e570-c73861f0af0c"
      },
      "outputs": [
        {
          "output_type": "stream",
          "name": "stdout",
          "text": [
            "R-squared score: 0.99685658289209\n"
          ]
        }
      ],
      "source": [
        "dtr_model = DecisionTreeRegressor()\n",
        "dtr_model.fit(X_train, y_train)\n",
        "\n",
        "y_pred = dtr_model.predict(X_test)\n",
        "\n",
        "r2 = r2_score(y_test, y_pred)\n",
        "print(f\"R-squared score: {r2}\")"
      ]
    },
    {
      "cell_type": "code",
      "execution_count": null,
      "metadata": {
        "id": "eUa8K2v4HAo9",
        "colab": {
          "base_uri": "https://localhost:8080/"
        },
        "outputId": "a64d440b-c07d-4d3f-8f7d-de77181fe616"
      },
      "outputs": [
        {
          "output_type": "stream",
          "name": "stdout",
          "text": [
            "12.361164415793747\n",
            "152.79838571428556\n",
            "6.70285714285714\n"
          ]
        }
      ],
      "source": [
        "import numpy as np\n",
        "from sklearn.metrics import mean_squared_error,r2_score,mean_absolute_error \n",
        "print(np.sqrt(mean_squared_error(y_test,y_pred )))\n",
        "print(mean_squared_error(y_test,y_pred ))\n",
        "print(mean_absolute_error(y_test,y_pred ))"
      ]
    },
    {
      "cell_type": "code",
      "source": [],
      "metadata": {
        "id": "jO_7ZLF_UQvk"
      },
      "execution_count": null,
      "outputs": []
    },
    {
      "cell_type": "code",
      "execution_count": null,
      "metadata": {
        "id": "vzuntxhNILyp"
      },
      "outputs": [],
      "source": [
        "from sklearn.neighbors import KNeighborsRegressor\n",
        "knn=KNeighborsRegressor(n_neighbors=20) #20 is k value"
      ]
    },
    {
      "cell_type": "code",
      "execution_count": null,
      "metadata": {
        "colab": {
          "base_uri": "https://localhost:8080/",
          "height": 74
        },
        "id": "WvB9_NrxIL0v",
        "outputId": "d3090bdc-df12-4a28-904d-59aa3bbad363"
      },
      "outputs": [
        {
          "output_type": "execute_result",
          "data": {
            "text/plain": [
              "KNeighborsRegressor(n_neighbors=20)"
            ],
            "text/html": [
              "<style>#sk-container-id-1 {color: black;background-color: white;}#sk-container-id-1 pre{padding: 0;}#sk-container-id-1 div.sk-toggleable {background-color: white;}#sk-container-id-1 label.sk-toggleable__label {cursor: pointer;display: block;width: 100%;margin-bottom: 0;padding: 0.3em;box-sizing: border-box;text-align: center;}#sk-container-id-1 label.sk-toggleable__label-arrow:before {content: \"▸\";float: left;margin-right: 0.25em;color: #696969;}#sk-container-id-1 label.sk-toggleable__label-arrow:hover:before {color: black;}#sk-container-id-1 div.sk-estimator:hover label.sk-toggleable__label-arrow:before {color: black;}#sk-container-id-1 div.sk-toggleable__content {max-height: 0;max-width: 0;overflow: hidden;text-align: left;background-color: #f0f8ff;}#sk-container-id-1 div.sk-toggleable__content pre {margin: 0.2em;color: black;border-radius: 0.25em;background-color: #f0f8ff;}#sk-container-id-1 input.sk-toggleable__control:checked~div.sk-toggleable__content {max-height: 200px;max-width: 100%;overflow: auto;}#sk-container-id-1 input.sk-toggleable__control:checked~label.sk-toggleable__label-arrow:before {content: \"▾\";}#sk-container-id-1 div.sk-estimator input.sk-toggleable__control:checked~label.sk-toggleable__label {background-color: #d4ebff;}#sk-container-id-1 div.sk-label input.sk-toggleable__control:checked~label.sk-toggleable__label {background-color: #d4ebff;}#sk-container-id-1 input.sk-hidden--visually {border: 0;clip: rect(1px 1px 1px 1px);clip: rect(1px, 1px, 1px, 1px);height: 1px;margin: -1px;overflow: hidden;padding: 0;position: absolute;width: 1px;}#sk-container-id-1 div.sk-estimator {font-family: monospace;background-color: #f0f8ff;border: 1px dotted black;border-radius: 0.25em;box-sizing: border-box;margin-bottom: 0.5em;}#sk-container-id-1 div.sk-estimator:hover {background-color: #d4ebff;}#sk-container-id-1 div.sk-parallel-item::after {content: \"\";width: 100%;border-bottom: 1px solid gray;flex-grow: 1;}#sk-container-id-1 div.sk-label:hover label.sk-toggleable__label {background-color: #d4ebff;}#sk-container-id-1 div.sk-serial::before {content: \"\";position: absolute;border-left: 1px solid gray;box-sizing: border-box;top: 0;bottom: 0;left: 50%;z-index: 0;}#sk-container-id-1 div.sk-serial {display: flex;flex-direction: column;align-items: center;background-color: white;padding-right: 0.2em;padding-left: 0.2em;position: relative;}#sk-container-id-1 div.sk-item {position: relative;z-index: 1;}#sk-container-id-1 div.sk-parallel {display: flex;align-items: stretch;justify-content: center;background-color: white;position: relative;}#sk-container-id-1 div.sk-item::before, #sk-container-id-1 div.sk-parallel-item::before {content: \"\";position: absolute;border-left: 1px solid gray;box-sizing: border-box;top: 0;bottom: 0;left: 50%;z-index: -1;}#sk-container-id-1 div.sk-parallel-item {display: flex;flex-direction: column;z-index: 1;position: relative;background-color: white;}#sk-container-id-1 div.sk-parallel-item:first-child::after {align-self: flex-end;width: 50%;}#sk-container-id-1 div.sk-parallel-item:last-child::after {align-self: flex-start;width: 50%;}#sk-container-id-1 div.sk-parallel-item:only-child::after {width: 0;}#sk-container-id-1 div.sk-dashed-wrapped {border: 1px dashed gray;margin: 0 0.4em 0.5em 0.4em;box-sizing: border-box;padding-bottom: 0.4em;background-color: white;}#sk-container-id-1 div.sk-label label {font-family: monospace;font-weight: bold;display: inline-block;line-height: 1.2em;}#sk-container-id-1 div.sk-label-container {text-align: center;}#sk-container-id-1 div.sk-container {/* jupyter's `normalize.less` sets `[hidden] { display: none; }` but bootstrap.min.css set `[hidden] { display: none !important; }` so we also need the `!important` here to be able to override the default hidden behavior on the sphinx rendered scikit-learn.org. See: https://github.com/scikit-learn/scikit-learn/issues/21755 */display: inline-block !important;position: relative;}#sk-container-id-1 div.sk-text-repr-fallback {display: none;}</style><div id=\"sk-container-id-1\" class=\"sk-top-container\"><div class=\"sk-text-repr-fallback\"><pre>KNeighborsRegressor(n_neighbors=20)</pre><b>In a Jupyter environment, please rerun this cell to show the HTML representation or trust the notebook. <br />On GitHub, the HTML representation is unable to render, please try loading this page with nbviewer.org.</b></div><div class=\"sk-container\" hidden><div class=\"sk-item\"><div class=\"sk-estimator sk-toggleable\"><input class=\"sk-toggleable__control sk-hidden--visually\" id=\"sk-estimator-id-1\" type=\"checkbox\" checked><label for=\"sk-estimator-id-1\" class=\"sk-toggleable__label sk-toggleable__label-arrow\">KNeighborsRegressor</label><div class=\"sk-toggleable__content\"><pre>KNeighborsRegressor(n_neighbors=20)</pre></div></div></div></div></div>"
            ]
          },
          "metadata": {},
          "execution_count": 17
        }
      ],
      "source": [
        "knn.fit(X_train,y_train)"
      ]
    },
    {
      "cell_type": "code",
      "execution_count": null,
      "metadata": {
        "colab": {
          "base_uri": "https://localhost:8080/"
        },
        "id": "BcFinPpUIL4B",
        "outputId": "ebdcbca9-438e-45da-803e-cf39dd232626"
      },
      "outputs": [
        {
          "output_type": "stream",
          "name": "stdout",
          "text": [
            "predicted value for training value 0.8903224447589416\n",
            "predicted value for testing value 0.8736946816379201\n"
          ]
        }
      ],
      "source": [
        "print(\"predicted value for training value\",knn.score(X_train,y_train))\n",
        "print(\"predicted value for testing value\",knn.score(X_test,y_test))"
      ]
    },
    {
      "cell_type": "code",
      "source": [
        "from sklearn.neighbors import KNeighborsRegressor\n",
        "from sklearn.metrics import accuracy_score\n",
        "\n",
        "from sklearn.neighbors import KNeighborsRegressor\n",
        "from sklearn.metrics import accuracy_score \n",
        "kk=KNeighborsRegressor() \n",
        "cc=kk.fit(X_train, y_train.values.ravel())"
      ],
      "metadata": {
        "id": "80mp_YgdU6TH"
      },
      "execution_count": null,
      "outputs": []
    },
    {
      "cell_type": "code",
      "source": [
        "yp=cc.predict(X_test)\n",
        "print(yp)\n",
        "print(y_test)"
      ],
      "metadata": {
        "id": "7T8eGS9ZVEwk",
        "outputId": "fafcf244-9f17-401b-e146-7037658d3610",
        "colab": {
          "base_uri": "https://localhost:8080/"
        }
      },
      "execution_count": null,
      "outputs": [
        {
          "output_type": "stream",
          "name": "stdout",
          "text": [
            "[116.688 116.688  14.55  226.292 245.972  44.446 584.456 624.92  199.838\n",
            "  44.446 572.448 327.084 202.708 132.852 378.072 100.798 686.854 170.674\n",
            " 100.798 194.    245.972  12.398  64.994 584.456 217.686  93.774  44.446\n",
            "  10.232]\n",
            "     Energy (kCal)\n",
            "121          99.60\n",
            "115         109.56\n",
            "48           26.71\n",
            "65          214.21\n",
            "24          246.65\n",
            "44           12.87\n",
            "2           652.76\n",
            "3           674.68\n",
            "5           198.00\n",
            "135          17.13\n",
            "109         622.25\n",
            "36          309.35\n",
            "53          190.03\n",
            "116         151.36\n",
            "91          398.19\n",
            "92           85.73\n",
            "12          689.12\n",
            "55          166.99\n",
            "25           98.00\n",
            "119         178.88\n",
            "113         252.29\n",
            "131           0.00\n",
            "45           44.98\n",
            "110         634.71\n",
            "126         237.12\n",
            "41          105.00\n",
            "134           8.07\n",
            "71            7.39\n"
          ]
        }
      ]
    },
    {
      "cell_type": "code",
      "source": [
        "import numpy as np\n",
        "from sklearn.metrics import mean_squared_error,r2_score,mean_absolute_error \n",
        "print(np.sqrt(mean_squared_error(y_test,y_pred )))\n",
        "print(mean_squared_error(y_test,y_pred ))\n",
        "print(mean_absolute_error(y_test,y_pred ))"
      ],
      "metadata": {
        "id": "MnVXkpb3VIxT",
        "outputId": "1591f9c0-2a13-495b-b2a7-45e7d7fc37c5",
        "colab": {
          "base_uri": "https://localhost:8080/"
        }
      },
      "execution_count": null,
      "outputs": [
        {
          "output_type": "stream",
          "name": "stdout",
          "text": [
            "12.361164415793747\n",
            "152.79838571428556\n",
            "6.70285714285714\n"
          ]
        }
      ]
    },
    {
      "cell_type": "code",
      "source": [
        "from sklearn import svm\n",
        "\n",
        "from sklearn.metrics import accuracy_score\n",
        "\n",
        "cc=svm.SVR(kernel='linear' )"
      ],
      "metadata": {
        "id": "eW2uYrMvTsJv"
      },
      "execution_count": null,
      "outputs": []
    },
    {
      "cell_type": "code",
      "execution_count": null,
      "metadata": {
        "id": "Jmz3IthyIL_f"
      },
      "outputs": [],
      "source": [
        "from sklearn import svm\n",
        "SVM= svm.SVR()"
      ]
    },
    {
      "cell_type": "code",
      "source": [
        "cl=cc.fit(X_train,y_train.values.ravel())"
      ],
      "metadata": {
        "id": "mEF1-w2GTlPj"
      },
      "execution_count": null,
      "outputs": []
    },
    {
      "cell_type": "code",
      "source": [
        "yp=cl.predict(X_test)\n",
        "print(yp)"
      ],
      "metadata": {
        "colab": {
          "base_uri": "https://localhost:8080/"
        },
        "id": "GGZ4HxkGdsmN",
        "outputId": "acfef6b3-13db-42c9-86db-277ee726cac3"
      },
      "execution_count": null,
      "outputs": [
        {
          "output_type": "stream",
          "name": "stdout",
          "text": [
            "[9.95438472e+01 1.09500023e+02 2.67091618e+01 2.14145553e+02\n",
            " 2.46828216e+02 1.28154762e+01 6.52804074e+02 6.74782917e+02\n",
            " 1.97991732e+02 1.70697315e+01 6.22524374e+02 3.09350871e+02\n",
            " 1.90090193e+02 1.51296222e+02 3.98175086e+02 8.56758488e+01\n",
            " 6.89180638e+02 1.67039957e+02 9.79472388e+01 1.78805656e+02\n",
            " 2.52296922e+02 7.99709844e-03 4.49471378e+01 6.34826671e+02\n",
            " 2.37042633e+02 1.04951069e+02 8.01204556e+00 7.38808334e+00]\n"
          ]
        }
      ]
    },
    {
      "cell_type": "code",
      "source": [
        "import numpy as np\n",
        "from sklearn.metrics import mean_squared_error,r2_score,mean_absolute_error \n",
        "print(np.sqrt(mean_squared_error(y_test,y_pred )))\n",
        "print(mean_squared_error(y_test,y_pred ))\n",
        "print(mean_absolute_error(y_test,y_pred ))"
      ],
      "metadata": {
        "colab": {
          "base_uri": "https://localhost:8080/"
        },
        "id": "sFDR328Wd5qa",
        "outputId": "3f86aa2c-d2be-489e-e642-719a41a1dc63"
      },
      "execution_count": null,
      "outputs": [
        {
          "output_type": "stream",
          "name": "stdout",
          "text": [
            "12.361164415793747\n",
            "152.79838571428556\n",
            "6.70285714285714\n"
          ]
        }
      ]
    },
    {
      "cell_type": "code",
      "execution_count": null,
      "metadata": {
        "colab": {
          "base_uri": "https://localhost:8080/",
          "height": 129
        },
        "id": "hHeUkeS7KUfQ",
        "outputId": "ff2c1b6c-d570-456b-e601-9e600440c0f5",
        "cellView": "form"
      },
      "outputs": [
        {
          "output_type": "stream",
          "name": "stderr",
          "text": [
            "/usr/local/lib/python3.9/dist-packages/sklearn/utils/validation.py:1143: DataConversionWarning: A column-vector y was passed when a 1d array was expected. Please change the shape of y to (n_samples, ), for example using ravel().\n",
            "  y = column_or_1d(y, warn=True)\n"
          ]
        },
        {
          "output_type": "execute_result",
          "data": {
            "text/plain": [
              "SVR()"
            ],
            "text/html": [
              "<style>#sk-container-id-2 {color: black;background-color: white;}#sk-container-id-2 pre{padding: 0;}#sk-container-id-2 div.sk-toggleable {background-color: white;}#sk-container-id-2 label.sk-toggleable__label {cursor: pointer;display: block;width: 100%;margin-bottom: 0;padding: 0.3em;box-sizing: border-box;text-align: center;}#sk-container-id-2 label.sk-toggleable__label-arrow:before {content: \"▸\";float: left;margin-right: 0.25em;color: #696969;}#sk-container-id-2 label.sk-toggleable__label-arrow:hover:before {color: black;}#sk-container-id-2 div.sk-estimator:hover label.sk-toggleable__label-arrow:before {color: black;}#sk-container-id-2 div.sk-toggleable__content {max-height: 0;max-width: 0;overflow: hidden;text-align: left;background-color: #f0f8ff;}#sk-container-id-2 div.sk-toggleable__content pre {margin: 0.2em;color: black;border-radius: 0.25em;background-color: #f0f8ff;}#sk-container-id-2 input.sk-toggleable__control:checked~div.sk-toggleable__content {max-height: 200px;max-width: 100%;overflow: auto;}#sk-container-id-2 input.sk-toggleable__control:checked~label.sk-toggleable__label-arrow:before {content: \"▾\";}#sk-container-id-2 div.sk-estimator input.sk-toggleable__control:checked~label.sk-toggleable__label {background-color: #d4ebff;}#sk-container-id-2 div.sk-label input.sk-toggleable__control:checked~label.sk-toggleable__label {background-color: #d4ebff;}#sk-container-id-2 input.sk-hidden--visually {border: 0;clip: rect(1px 1px 1px 1px);clip: rect(1px, 1px, 1px, 1px);height: 1px;margin: -1px;overflow: hidden;padding: 0;position: absolute;width: 1px;}#sk-container-id-2 div.sk-estimator {font-family: monospace;background-color: #f0f8ff;border: 1px dotted black;border-radius: 0.25em;box-sizing: border-box;margin-bottom: 0.5em;}#sk-container-id-2 div.sk-estimator:hover {background-color: #d4ebff;}#sk-container-id-2 div.sk-parallel-item::after {content: \"\";width: 100%;border-bottom: 1px solid gray;flex-grow: 1;}#sk-container-id-2 div.sk-label:hover label.sk-toggleable__label {background-color: #d4ebff;}#sk-container-id-2 div.sk-serial::before {content: \"\";position: absolute;border-left: 1px solid gray;box-sizing: border-box;top: 0;bottom: 0;left: 50%;z-index: 0;}#sk-container-id-2 div.sk-serial {display: flex;flex-direction: column;align-items: center;background-color: white;padding-right: 0.2em;padding-left: 0.2em;position: relative;}#sk-container-id-2 div.sk-item {position: relative;z-index: 1;}#sk-container-id-2 div.sk-parallel {display: flex;align-items: stretch;justify-content: center;background-color: white;position: relative;}#sk-container-id-2 div.sk-item::before, #sk-container-id-2 div.sk-parallel-item::before {content: \"\";position: absolute;border-left: 1px solid gray;box-sizing: border-box;top: 0;bottom: 0;left: 50%;z-index: -1;}#sk-container-id-2 div.sk-parallel-item {display: flex;flex-direction: column;z-index: 1;position: relative;background-color: white;}#sk-container-id-2 div.sk-parallel-item:first-child::after {align-self: flex-end;width: 50%;}#sk-container-id-2 div.sk-parallel-item:last-child::after {align-self: flex-start;width: 50%;}#sk-container-id-2 div.sk-parallel-item:only-child::after {width: 0;}#sk-container-id-2 div.sk-dashed-wrapped {border: 1px dashed gray;margin: 0 0.4em 0.5em 0.4em;box-sizing: border-box;padding-bottom: 0.4em;background-color: white;}#sk-container-id-2 div.sk-label label {font-family: monospace;font-weight: bold;display: inline-block;line-height: 1.2em;}#sk-container-id-2 div.sk-label-container {text-align: center;}#sk-container-id-2 div.sk-container {/* jupyter's `normalize.less` sets `[hidden] { display: none; }` but bootstrap.min.css set `[hidden] { display: none !important; }` so we also need the `!important` here to be able to override the default hidden behavior on the sphinx rendered scikit-learn.org. See: https://github.com/scikit-learn/scikit-learn/issues/21755 */display: inline-block !important;position: relative;}#sk-container-id-2 div.sk-text-repr-fallback {display: none;}</style><div id=\"sk-container-id-2\" class=\"sk-top-container\"><div class=\"sk-text-repr-fallback\"><pre>SVR()</pre><b>In a Jupyter environment, please rerun this cell to show the HTML representation or trust the notebook. <br />On GitHub, the HTML representation is unable to render, please try loading this page with nbviewer.org.</b></div><div class=\"sk-container\" hidden><div class=\"sk-item\"><div class=\"sk-estimator sk-toggleable\"><input class=\"sk-toggleable__control sk-hidden--visually\" id=\"sk-estimator-id-2\" type=\"checkbox\" checked><label for=\"sk-estimator-id-2\" class=\"sk-toggleable__label sk-toggleable__label-arrow\">SVR</label><div class=\"sk-toggleable__content\"><pre>SVR()</pre></div></div></div></div></div>"
            ]
          },
          "metadata": {},
          "execution_count": 29
        }
      ],
      "source": [
        "#@title Default title text\n",
        "SVM.fit(X_train, y_train)"
      ]
    },
    {
      "cell_type": "code",
      "execution_count": null,
      "metadata": {
        "id": "krTlJLLXKUh2"
      },
      "outputs": [],
      "source": [
        " cl=cc.fit(X_train,y_train.values.ravel())"
      ]
    },
    {
      "cell_type": "code",
      "execution_count": null,
      "metadata": {
        "id": "s6ppA9O_KUlM",
        "colab": {
          "base_uri": "https://localhost:8080/"
        },
        "outputId": "7517031e-a71b-444a-e96e-3caa00f90738"
      },
      "outputs": [
        {
          "output_type": "stream",
          "name": "stdout",
          "text": [
            "[9.95438472e+01 1.09500023e+02 2.67091618e+01 2.14145553e+02\n",
            " 2.46828216e+02 1.28154762e+01 6.52804074e+02 6.74782917e+02\n",
            " 1.97991732e+02 1.70697315e+01 6.22524374e+02 3.09350871e+02\n",
            " 1.90090193e+02 1.51296222e+02 3.98175086e+02 8.56758488e+01\n",
            " 6.89180638e+02 1.67039957e+02 9.79472388e+01 1.78805656e+02\n",
            " 2.52296922e+02 7.99709844e-03 4.49471378e+01 6.34826671e+02\n",
            " 2.37042633e+02 1.04951069e+02 8.01204556e+00 7.38808334e+00]\n"
          ]
        }
      ],
      "source": [
        "yp=cl.predict(X_test)\n",
        "print(yp)"
      ]
    },
    {
      "cell_type": "code",
      "execution_count": null,
      "metadata": {
        "id": "atm8wI4GJU8x",
        "colab": {
          "base_uri": "https://localhost:8080/",
          "height": 235
        },
        "outputId": "b7e98fc6-97e8-4e73-8fbf-291ad59277ff"
      },
      "outputs": [
        {
          "output_type": "error",
          "ename": "NameError",
          "evalue": "ignored",
          "traceback": [
            "\u001b[0;31m---------------------------------------------------------------------------\u001b[0m",
            "\u001b[0;31mNameError\u001b[0m                                 Traceback (most recent call last)",
            "\u001b[0;32m<ipython-input-1-98cbad67f167>\u001b[0m in \u001b[0;36m<cell line: 3>\u001b[0;34m()\u001b[0m\n\u001b[1;32m      1\u001b[0m \u001b[0;32mimport\u001b[0m \u001b[0mnumpy\u001b[0m \u001b[0;32mas\u001b[0m \u001b[0mnp\u001b[0m\u001b[0;34m\u001b[0m\u001b[0;34m\u001b[0m\u001b[0m\n\u001b[1;32m      2\u001b[0m \u001b[0;32mfrom\u001b[0m \u001b[0msklearn\u001b[0m\u001b[0;34m.\u001b[0m\u001b[0mmetrics\u001b[0m \u001b[0;32mimport\u001b[0m \u001b[0mmean_squared_error\u001b[0m\u001b[0;34m,\u001b[0m\u001b[0mmean_absolute_error\u001b[0m\u001b[0;34m\u001b[0m\u001b[0;34m\u001b[0m\u001b[0m\n\u001b[0;32m----> 3\u001b[0;31m \u001b[0mprint\u001b[0m\u001b[0;34m(\u001b[0m\u001b[0mnp\u001b[0m\u001b[0;34m.\u001b[0m\u001b[0msqrt\u001b[0m\u001b[0;34m(\u001b[0m\u001b[0mmean_squared_error\u001b[0m\u001b[0;34m(\u001b[0m\u001b[0my_test\u001b[0m\u001b[0;34m,\u001b[0m\u001b[0my_pred\u001b[0m \u001b[0;34m)\u001b[0m\u001b[0;34m)\u001b[0m\u001b[0;34m)\u001b[0m\u001b[0;34m\u001b[0m\u001b[0;34m\u001b[0m\u001b[0m\n\u001b[0m\u001b[1;32m      4\u001b[0m \u001b[0mprint\u001b[0m\u001b[0;34m(\u001b[0m\u001b[0mmean_squared_error\u001b[0m\u001b[0;34m(\u001b[0m\u001b[0my_test\u001b[0m\u001b[0;34m,\u001b[0m\u001b[0my_pred\u001b[0m \u001b[0;34m)\u001b[0m\u001b[0;34m)\u001b[0m\u001b[0;34m\u001b[0m\u001b[0;34m\u001b[0m\u001b[0m\n\u001b[1;32m      5\u001b[0m \u001b[0mprint\u001b[0m\u001b[0;34m(\u001b[0m\u001b[0mmean_absolute_error\u001b[0m\u001b[0;34m(\u001b[0m\u001b[0my_test\u001b[0m\u001b[0;34m,\u001b[0m\u001b[0my_pred\u001b[0m \u001b[0;34m)\u001b[0m\u001b[0;34m)\u001b[0m\u001b[0;34m\u001b[0m\u001b[0;34m\u001b[0m\u001b[0m\n",
            "\u001b[0;31mNameError\u001b[0m: name 'y_test' is not defined"
          ]
        }
      ],
      "source": [
        "import numpy as np\n",
        "from sklearn.metrics import mean_squared_error,r_score,mean_absolute_error \n",
        "print(np.sqrt(mean_squared_error(y_test,y_pred )))\n",
        "print(mean_squared_error(y_test,y_pred ))\n",
        "print(mean_absolute_error(y_test,y_pred ))"
      ]
    },
    {
      "cell_type": "code",
      "source": [],
      "metadata": {
        "id": "9T9YVyzEcPns"
      },
      "execution_count": null,
      "outputs": []
    }
  ],
  "metadata": {
    "colab": {
      "provenance": []
    },
    "kernelspec": {
      "display_name": "Python 3",
      "name": "python3"
    },
    "language_info": {
      "name": "python"
    }
  },
  "nbformat": 4,
  "nbformat_minor": 0
}